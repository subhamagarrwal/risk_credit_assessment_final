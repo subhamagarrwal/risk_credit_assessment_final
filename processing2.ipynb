{
 "cells": [
  {
   "cell_type": "code",
   "execution_count": 6,
   "id": "24c16212",
   "metadata": {},
   "outputs": [
    {
     "name": "stdout",
     "output_type": "stream",
     "text": [
      "Weights (standardized): [0.01019808 0.01173606 0.03441564 0.05057033]\n",
      "Weights (original scale): [0.42291579 0.76224303 0.71664486 0.15960954]\n",
      "Weights:\n",
      "  w1 (PIS)        = 0.010198\n",
      "  w2 (1 - CoLI)   = 0.011736\n",
      "  w3 (1 - BRI)    = 0.034416\n",
      "  w4 (1 - FRI)    = 0.050570\n",
      "Chosen alpha      = 100.0\n",
      "RMSE : 0.1234357072628156\n",
      "R^2  : 0.31216086151165845\n"
     ]
    }
   ],
   "source": [
    "import pandas as pd\n",
    "from sklearn.linear_model import RidgeCV\n",
    "from sklearn.metrics import mean_squared_error, r2_score\n",
    "from sklearn.preprocessing import StandardScaler\n",
    "\n",
    "# 1. Load data\n",
    "df = pd.read_csv(r\"c:\\Users\\subha\\Desktop\\risk_credit_final\\risk_scored_applicants_updated.csv\")\n",
    "\n",
    "# 2. Select the four components of the formula\n",
    "features = pd.DataFrame({\n",
    "    \"PIS\": df[\"Payment_Irregularity_Score\"],\n",
    "    \"one_minus_CoLI\": 1 - df[\"CoLI_ridge\"],\n",
    "    \"one_minus_BRI\": 1 - df[\"BRI_ridge\"],\n",
    "    \"one_minus_FRI\": 1 - df[\"Financial_Resilience_Index\"]\n",
    "})\n",
    "\n",
    "# 3. Choose the target you want to approximate (default prob)\n",
    "y = df[\"Default_Prob_Final\"]      # or df[\"Default_Prob\"]\n",
    "\n",
    "# 4. Fit Ridge regression without an intercept (formula has no constant term)\n",
    "alphas = (0.001, 0.01, 0.1, 1, 10, 100)   # search space for regularisation strength\n",
    "scaler = StandardScaler()\n",
    "X_scaled = scaler.fit_transform(features)\n",
    "\n",
    "ridge = RidgeCV(alphas=alphas, fit_intercept=False)\n",
    "ridge.fit(X_scaled, y)\n",
    "w_std = ridge.coef_\n",
    "w_orig = w_std / scaler.scale_\n",
    "\n",
    "print(\"Weights (standardized):\", w_std)\n",
    "print(\"Weights (original scale):\", w_orig)\n",
    "\n",
    "\n",
    "# 5. Inspect learned weights\n",
    "w1, w2, w3, w4 = ridge.coef_\n",
    "print(\"Weights:\")\n",
    "print(f\"  w1 (PIS)        = {w1:.6f}\")\n",
    "print(f\"  w2 (1 - CoLI)   = {w2:.6f}\")\n",
    "print(f\"  w3 (1 - BRI)    = {w3:.6f}\")\n",
    "print(f\"  w4 (1 - FRI)    = {w4:.6f}\")\n",
    "print(f\"Chosen alpha      = {ridge.alpha_}\")\n",
    "\n",
    "# 6. Optional: evaluate fit quality\n",
    "y_pred = ridge.predict(X_scaled)\n",
    "rmse = mean_squared_error(y, y_pred) ** 0.5\n",
    "print(\"RMSE :\", rmse)\n",
    "print(\"R^2  :\", r2_score(y, y_pred))"
   ]
  },
  {
   "cell_type": "code",
   "execution_count": null,
   "id": "3fa29f9b",
   "metadata": {},
   "outputs": [],
   "source": []
  }
 ],
 "metadata": {
  "kernelspec": {
   "display_name": ".venv",
   "language": "python",
   "name": "python3"
  },
  "language_info": {
   "codemirror_mode": {
    "name": "ipython",
    "version": 3
   },
   "file_extension": ".py",
   "mimetype": "text/x-python",
   "name": "python",
   "nbconvert_exporter": "python",
   "pygments_lexer": "ipython3",
   "version": "3.11.5"
  }
 },
 "nbformat": 4,
 "nbformat_minor": 5
}
