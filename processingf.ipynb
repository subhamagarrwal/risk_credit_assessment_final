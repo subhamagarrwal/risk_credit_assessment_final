{
 "cells": [
  {
   "cell_type": "code",
   "execution_count": 1,
   "id": "73889205",
   "metadata": {},
   "outputs": [],
   "source": [
    "import pandas as pd\n",
    "import numpy as np\n",
    "import matplotlib.pyplot as plt\n",
    "import seaborn as sns\n",
    "from sklearn.model_selection import train_test_split\n",
    "from sklearn.linear_model import RidgeCV\n",
    "from sklearn.preprocessing import StandardScaler"
   ]
  },
  {
   "cell_type": "code",
   "execution_count": 5,
   "id": "a35f7e39",
   "metadata": {},
   "outputs": [
    {
     "name": "stdout",
     "output_type": "stream",
     "text": [
      "Index(['Income', 'Age', 'Dependents', 'Occupation', 'City_Tier', 'Rent',\n",
      "       'Loan_Repayment', 'Insurance', 'Groceries', 'Transport', 'Eating_Out',\n",
      "       'Entertainment', 'Utilities', 'Healthcare', 'Education',\n",
      "       'Miscellaneous', 'Missed_Rent', 'Missed_Utilities', 'Missed_Insurance',\n",
      "       'Missed_Loan_Repayment', 'Missed_Groceries', 'Missed_Transport',\n",
      "       'Missed_Eating_Out', 'Missed_Entertainment', 'Missed_Miscellaneous',\n",
      "       'Missed_Healthcare', 'Missed_Education', 'Missed_Payment_Rate',\n",
      "       'Payment_Reliability_Score', 'UPI_Remitter_Bank', 'Bank_CAELS_Score',\n",
      "       'Bank_Risk_Tier', 'Expense_Volatility', 'Utility_Payment_Regularity',\n",
      "       'Recurring_Payment_Stability', 'Savings_Gap_Index',\n",
      "       'Payment_Irregularity_Score', 'Financial_Resilience_Index',\n",
      "       'UPI_Success_Rate', 'CoLI_ridge', 'BRI_ridge', 'RiskScore_raw',\n",
      "       'Default_Prob', 'Default_Prob_Final', 'Default_Label',\n",
      "       'Total_Missed_Payments'],\n",
      "      dtype='object')\n"
     ]
    }
   ],
   "source": [
    "df = pd.read_csv('data\\\\risk_scored_applicants_updated.csv')\n",
    "print(df.columns)"
   ]
  },
  {
   "cell_type": "code",
   "execution_count": 9,
   "id": "538d2d8b",
   "metadata": {},
   "outputs": [
    {
     "name": "stdout",
     "output_type": "stream",
     "text": [
      "Updated dataset shape: (20000, 19)\n",
      "Columns remaining: 19\n",
      "\n",
      "Dataset has been updated and saved!\n"
     ]
    }
   ],
   "source": [
    "columns_to_remove = [\n",
    "'Expense_Volatility','Utility_Payment_Regularity','Recurring_Payment_Stability','Savings_Gap_Index','Payment_Irregularity_Score','Financial_Resilience_Index'\n",
    "\n",
    "]\n",
    "\n",
    "df = df.drop(columns=columns_to_remove, errors='ignore')\n",
    "\n",
    "# Save back to the same file\n",
    "df.to_csv('data\\\\risk_scored_applicants_updated.csv', index=False)\n",
    "\n",
    "print(f\"Updated dataset shape: {df.shape}\")\n",
    "print(f\"Columns remaining: {len(df.columns)}\")\n",
    "print(\"\\nDataset has been updated and saved!\")"
   ]
  },
  {
   "cell_type": "code",
   "execution_count": 10,
   "id": "e45a1cc3",
   "metadata": {},
   "outputs": [
    {
     "name": "stdout",
     "output_type": "stream",
     "text": [
      "         Income  Age  Dependents     Occupation City_Tier          Rent  \\\n",
      "0   44637.24964   49           0  Self_Employed    Tier_1  13391.174890   \n",
      "1   26858.59659   34           2        Retired    Tier_2   5371.719318   \n",
      "2   50367.60508   35           1        Student    Tier_3   7555.140763   \n",
      "3  101455.60020   21           0  Self_Employed    Tier_3  15218.340040   \n",
      "4   24875.28355   52           4   Professional    Tier_2   4975.056710   \n",
      "\n",
      "   Loan_Repayment    Insurance     Groceries    Transport   Eating_Out  \\\n",
      "0        0.000000  2206.490129   6658.768341  2636.970696  1651.801726   \n",
      "1        0.000000   869.522617   2818.444460  1543.018778   649.378103   \n",
      "2     4612.103386  2201.800050   6313.222081  3221.396403  1513.814376   \n",
      "3     6809.441427  4889.418087  14690.149360  7106.130005  5040.249158   \n",
      "4     3112.609398   635.907170   3034.329665  1276.155163   692.827225   \n",
      "\n",
      "   Entertainment    Utilities   Healthcare    Education  Miscellaneous  \\\n",
      "0    1536.184255  2911.792231  1546.914539     0.000000     831.525120   \n",
      "1    1050.241738  1626.143346  1137.351325  1551.723167     564.235007   \n",
      "2    1723.306926  3368.457108  2178.515847  3160.026299     628.371220   \n",
      "3    2858.194240  6128.550387  4571.118217     0.000000    2526.055712   \n",
      "4     660.186851  1092.689024  1169.095816  1445.215694     515.510300   \n",
      "\n",
      "       UPI_Remitter_Bank  Bank_CAELS_Score Bank_Risk_Tier  \n",
      "0   Punjab National Bank             0.915      High Risk  \n",
      "1         Axis Bank Ltd.             0.131       Low Risk  \n",
      "2            Indian Bank             0.698    Medium Risk  \n",
      "3    Union Bank of India             0.800    Medium Risk  \n",
      "4  Central Bank of India             1.000      High Risk  \n"
     ]
    }
   ],
   "source": [
    "print(df.head())"
   ]
  },
  {
   "cell_type": "code",
   "execution_count": null,
   "id": "e21c5e9e",
   "metadata": {},
   "outputs": [],
   "source": []
  },
  {
   "cell_type": "markdown",
   "id": "9091cfab",
   "metadata": {},
   "source": [
    "# Fix Inverted Bank_Risk_Tier Labels\n",
    "\n",
    "The CAELS scores are correct, but the Bank_Risk_Tier labels are inverted:\n",
    "- High CAELS (0.8-1.0) should = Low Risk ✓\n",
    "- Low CAELS (0.0-0.3) should = High Risk ✓\n",
    "\n",
    "Current labels are backwards, so we'll fix them based on actual scores."
   ]
  },
  {
   "cell_type": "code",
   "execution_count": 11,
   "id": "cb292c08",
   "metadata": {},
   "outputs": [
    {
     "name": "stdout",
     "output_type": "stream",
     "text": [
      "Current Bank_Risk_Tier vs CAELS Score:\n",
      "                    mean       std    min    max  count\n",
      "Bank_Risk_Tier                                         \n",
      "High Risk       0.900774  0.068776  0.812  1.000   7163\n",
      "Low Risk        0.104138  0.071665  0.000  0.221   6324\n",
      "Medium Risk     0.622741  0.161552  0.276  0.805   6513\n",
      "\n",
      "Problem: High CAELS scores are labeled 'High Risk' (should be 'Low Risk')\n"
     ]
    }
   ],
   "source": [
    "# Check current distribution\n",
    "print(\"Current Bank_Risk_Tier vs CAELS Score:\")\n",
    "print(df.groupby('Bank_Risk_Tier')['Bank_CAELS_Score'].agg(['mean', 'std', 'min', 'max', 'count']))\n",
    "print(\"\\nProblem: High CAELS scores are labeled 'High Risk' (should be 'Low Risk')\")"
   ]
  },
  {
   "cell_type": "code",
   "execution_count": 12,
   "id": "2cad8b24",
   "metadata": {},
   "outputs": [
    {
     "name": "stdout",
     "output_type": "stream",
     "text": [
      "\n",
      "Corrected Bank_Risk_Tier vs CAELS Score:\n",
      "                    mean       std    min    max  count\n",
      "Bank_Risk_Tier                                         \n",
      "High Risk       0.120846  0.085025  0.000  0.276   7005\n",
      "Low Risk        0.879641  0.073093  0.800  1.000   9127\n",
      "Medium Risk     0.592482  0.073725  0.521  0.698   3868\n",
      "\n",
      "✓ Fixed: High CAELS → Low Risk, Low CAELS → High Risk\n"
     ]
    }
   ],
   "source": [
    "# Fix the Bank_Risk_Tier labels based on actual CAELS scores\n",
    "# High CAELS (0.8-1.0) = Low Risk (good bank)\n",
    "# Medium CAELS (0.3-0.8) = Medium Risk\n",
    "# Low CAELS (0.0-0.3) = High Risk (poor bank)\n",
    "\n",
    "def correct_bank_risk_tier(caels_score):\n",
    "    if caels_score >= 0.8:\n",
    "        return 'Low Risk'\n",
    "    elif caels_score >= 0.3:\n",
    "        return 'Medium Risk'\n",
    "    else:\n",
    "        return 'High Risk'\n",
    "\n",
    "# Apply correction\n",
    "df['Bank_Risk_Tier'] = df['Bank_CAELS_Score'].apply(correct_bank_risk_tier)\n",
    "\n",
    "print(\"\\nCorrected Bank_Risk_Tier vs CAELS Score:\")\n",
    "print(df.groupby('Bank_Risk_Tier')['Bank_CAELS_Score'].agg(['mean', 'std', 'min', 'max', 'count']))\n",
    "print(\"\\n✓ Fixed: High CAELS → Low Risk, Low CAELS → High Risk\")"
   ]
  },
  {
   "cell_type": "code",
   "execution_count": 15,
   "id": "babbf16a",
   "metadata": {},
   "outputs": [
    {
     "name": "stdout",
     "output_type": "stream",
     "text": [
      "✓ Corrected dataset saved to 'data\\risk_scored_applicants_updated.csv'\n"
     ]
    }
   ],
   "source": [
    "# Save the corrected dataset\n",
    "df.to_csv('data\\\\risk_scored_applicants_updated.csv', index=False)\n",
    "print(\"✓ Corrected dataset saved to 'data\\\\risk_scored_applicants_updated.csv'\")"
   ]
  },
  {
   "cell_type": "code",
   "execution_count": null,
   "id": "16ec5e22",
   "metadata": {},
   "outputs": [],
   "source": []
  }
 ],
 "metadata": {
  "kernelspec": {
   "display_name": ".venv",
   "language": "python",
   "name": "python3"
  },
  "language_info": {
   "codemirror_mode": {
    "name": "ipython",
    "version": 3
   },
   "file_extension": ".py",
   "mimetype": "text/x-python",
   "name": "python",
   "nbconvert_exporter": "python",
   "pygments_lexer": "ipython3",
   "version": "3.11.5"
  }
 },
 "nbformat": 4,
 "nbformat_minor": 5
}
